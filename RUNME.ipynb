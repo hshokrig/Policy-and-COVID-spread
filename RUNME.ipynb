{
 "cells": [
  {
   "cell_type": "markdown",
   "metadata": {},
   "source": [
    "# Model \n",
    "\n",
    "To model the new cases as a function of underlying policies, we notice the following facts: \n",
    "\n",
    "- **Delay:** It takes a few days for the symptoms to appear, the person gets registered in the hospital, and logged in the dataset. Therefore, it is very probable that they got infected during the previous policy, but is registered as a new case during a new policy. \n",
    "- **Outliers:** There are always some cases who do not follow the current policy, and may follow the old ones.  \n",
    "- **Policy outdates:** For every new policy, people start following it for a few days. However, as time goes, more people stop following it due to frustration and other social, cultural, and personal reasons. \n",
    "\n",
    "For every policy $p$, define $t_p$ as the start time of the policy. Let $n_{t,p}$ denote the average number of new cases in day $t$ if policy $p$ is valid until infinity (time invariant $p$ to assume stationarity of the proess). To model the *delay* and *outliers*, we define weights $w_{t,p}$, where $w_{t,p}\\geq 0$ for all $t,p$ and $w_{t,p}=0$ for $t <t_p$. Then, the actual number of new cases at time $t$ due to policy $p$ is $w_{t,p}n_{t,p}$. Finally, the number of new cases in time/day $t$ is $n_t=\\sum_p w_{t,p}n_{t,p}$. \n",
    "\n",
    "Every $s_{t,p}$ can follow a logistic function, where the aim is to find its exponent. \n",
    "\n",
    "## Some examples for $w_{t,p}$:\n",
    "**Constant-Linear with bounded support:** Here, we assume \n",
    "$$w_{t,p}=\\begin{cases}0 & \\text{if}~t < t_p\\\\1  & \\text{if}~t \\in [t_p, t_{t_p+1}) \\\\\\max\\left\\{1-\\dfrac{t-t_{p+1}}{l}, 0\\right\\} & \\text{if}~t \\geq t_{p+1}\\end{cases}$$ for some lag $l$ days. In particular, this model assumes that an old policy still contributes to new cases for a few days ($l$) during the new policy. \n",
    "\n",
    "Any other model? lets keep the model as simple as possible for the start. It would be just enough to show that it would be better \n"
   ]
  },
  {
   "cell_type": "code",
   "execution_count": null,
   "metadata": {},
   "outputs": [],
   "source": []
  }
 ],
 "metadata": {
  "kernelspec": {
   "display_name": "Python 3",
   "language": "python",
   "name": "python3"
  },
  "language_info": {
   "codemirror_mode": {
    "name": "ipython",
    "version": 3
   },
   "file_extension": ".py",
   "mimetype": "text/x-python",
   "name": "python",
   "nbconvert_exporter": "python",
   "pygments_lexer": "ipython3",
   "version": "3.7.3"
  }
 },
 "nbformat": 4,
 "nbformat_minor": 2
}
